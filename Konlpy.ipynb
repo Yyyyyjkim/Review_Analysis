{
  "nbformat": 4,
  "nbformat_minor": 0,
  "metadata": {
    "colab": {
      "name": "Konlpy.ipynb",
      "provenance": [],
      "collapsed_sections": [],
      "mount_file_id": "1s_pvY3Zk2fqladA1jRt6QaCjpia8PORd",
      "authorship_tag": "ABX9TyPpbLbuxN1/ik5XQGB3zlF2",
      "include_colab_link": true
    },
    "kernelspec": {
      "name": "python3",
      "display_name": "Python 3"
    }
  },
  "cells": [
    {
      "cell_type": "markdown",
      "metadata": {
        "id": "view-in-github",
        "colab_type": "text"
      },
      "source": [
        "<a href=\"https://colab.research.google.com/github/Yyyyyjkim/review_analysis/blob/master/Konlpy.ipynb\" target=\"_parent\"><img src=\"https://colab.research.google.com/assets/colab-badge.svg\" alt=\"Open In Colab\"/></a>"
      ]
    },
    {
      "cell_type": "code",
      "metadata": {
        "id": "yhz168AuqMlN",
        "colab_type": "code",
        "colab": {
          "base_uri": "https://localhost:8080/",
          "height": 34
        },
        "outputId": "577f6eb1-087c-4da1-9ca1-d63aaaf0cafe"
      },
      "source": [
        "from google.colab import drive\n",
        "drive.mount('/content/drive')"
      ],
      "execution_count": 1,
      "outputs": [
        {
          "output_type": "stream",
          "text": [
            "Drive already mounted at /content/drive; to attempt to forcibly remount, call drive.mount(\"/content/drive\", force_remount=True).\n"
          ],
          "name": "stdout"
        }
      ]
    },
    {
      "cell_type": "code",
      "metadata": {
        "id": "wFbMMSaUrMLV",
        "colab_type": "code",
        "colab": {}
      },
      "source": [
        "!pip install konlpy"
      ],
      "execution_count": 0,
      "outputs": []
    },
    {
      "cell_type": "code",
      "metadata": {
        "id": "Tj_qTInrqqqI",
        "colab_type": "code",
        "colab": {}
      },
      "source": [
        "import pandas as pd\n",
        "import pickle\n",
        "import konlpy\n",
        "import re"
      ],
      "execution_count": 0,
      "outputs": []
    },
    {
      "cell_type": "code",
      "metadata": {
        "id": "9wyetBtaqvJL",
        "colab_type": "code",
        "colab": {}
      },
      "source": [
        "with open('/content/drive/My Drive/comment_analysis/data/review.pickle', 'rb') as f:\n",
        "    review = pickle.load(f)"
      ],
      "execution_count": 0,
      "outputs": []
    },
    {
      "cell_type": "code",
      "metadata": {
        "id": "NGJasAgYw_zg",
        "colab_type": "code",
        "colab": {}
      },
      "source": [
        "review.columns = ['ranking','date','desc','asc']"
      ],
      "execution_count": 0,
      "outputs": []
    },
    {
      "cell_type": "code",
      "metadata": {
        "id": "QsZCYqvCv-1f",
        "colab_type": "code",
        "colab": {}
      },
      "source": [
        "review_ranking = [re.sub('[\\[\\]!\"#$%&\\'()*+,/:;<=>?@\\^_`{|}~-✔️🙏🏻👍🤗💕😘]|BEST\\n|재구매\\n','',i) for i in review['ranking']]\n",
        "review_ranking = [re.sub('\\n',' ',i) for i in review_ranking]"
      ],
      "execution_count": 0,
      "outputs": []
    },
    {
      "cell_type": "code",
      "metadata": {
        "id": "G4gXofKorjMo",
        "colab_type": "code",
        "colab": {}
      },
      "source": [
        "from konlpy.tag import Hannanum\n",
        "from konlpy.tag import Kkma\n",
        "from konlpy.tag import Mecab\n",
        "from konlpy.tag import Komoran\n",
        "from konlpy.tag import Okt"
      ],
      "execution_count": 0,
      "outputs": []
    },
    {
      "cell_type": "code",
      "metadata": {
        "id": "Ovm-U4pZsAcz",
        "colab_type": "code",
        "colab": {
          "base_uri": "https://localhost:8080/",
          "height": 34
        },
        "outputId": "00da1759-1305-49de-ab76-34b833b88f1d"
      },
      "source": [
        "hannanum = Hannanum() \n",
        "hannanum.analyze  #구(Phrase) 분석\n",
        "hannanum.morphs   #형태소 분석\n",
        "hannanum.nouns    #명사 분석\n",
        "hannanum.pos      #형태소 분석 태깅"
      ],
      "execution_count": 8,
      "outputs": [
        {
          "output_type": "execute_result",
          "data": {
            "text/plain": [
              "<bound method Hannanum.pos of <konlpy.tag._hannanum.Hannanum object at 0x7f4a87bc0e48>>"
            ]
          },
          "metadata": {
            "tags": []
          },
          "execution_count": 8
        }
      ]
    },
    {
      "cell_type": "code",
      "metadata": {
        "id": "PedGKBIzsFei",
        "colab_type": "code",
        "colab": {
          "base_uri": "https://localhost:8080/",
          "height": 34
        },
        "outputId": "2389025c-789b-4424-99d9-ae4dd2d0d622"
      },
      "source": [
        "hannanum.morphs(review.iloc[0,0])"
      ],
      "execution_count": 12,
      "outputs": [
        {
          "output_type": "execute_result",
          "data": {
            "text/plain": [
              "'BEST'"
            ]
          },
          "metadata": {
            "tags": []
          },
          "execution_count": 12
        }
      ]
    }
  ]
}