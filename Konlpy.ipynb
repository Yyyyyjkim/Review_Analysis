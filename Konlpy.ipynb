{
  "nbformat": 4,
  "nbformat_minor": 0,
  "metadata": {
    "colab": {
      "name": "Konlpy.ipynb",
      "provenance": [],
      "collapsed_sections": [],
      "mount_file_id": "1s_pvY3Zk2fqladA1jRt6QaCjpia8PORd",
      "authorship_tag": "ABX9TyNzoS8D13cPfjuYjGNju8rs",
      "include_colab_link": true
    },
    "kernelspec": {
      "name": "python3",
      "display_name": "Python 3"
    },
    "accelerator": "GPU"
  },
  "cells": [
    {
      "cell_type": "markdown",
      "metadata": {
        "id": "view-in-github",
        "colab_type": "text"
      },
      "source": [
        "<a href=\"https://colab.research.google.com/github/Yyyyyjkim/review_analysis/blob/master/Konlpy.ipynb\" target=\"_parent\"><img src=\"https://colab.research.google.com/assets/colab-badge.svg\" alt=\"Open In Colab\"/></a>"
      ]
    },
    {
      "cell_type": "code",
      "metadata": {
        "id": "yhz168AuqMlN",
        "colab_type": "code",
        "outputId": "e27529a7-36a3-4384-b3a5-6195d85dab46",
        "colab": {
          "base_uri": "https://localhost:8080/",
          "height": 34
        }
      },
      "source": [
        "from google.colab import drive\n",
        "drive.mount('/content/drive')"
      ],
      "execution_count": 3,
      "outputs": [
        {
          "output_type": "stream",
          "text": [
            "Drive already mounted at /content/drive; to attempt to forcibly remount, call drive.mount(\"/content/drive\", force_remount=True).\n"
          ],
          "name": "stdout"
        }
      ]
    },
    {
      "cell_type": "code",
      "metadata": {
        "id": "wFbMMSaUrMLV",
        "colab_type": "code",
        "colab": {}
      },
      "source": [
        "!pip install konlpy\n",
        "!pip install sklearn"
      ],
      "execution_count": 0,
      "outputs": []
    },
    {
      "cell_type": "code",
      "metadata": {
        "id": "Tj_qTInrqqqI",
        "colab_type": "code",
        "colab": {}
      },
      "source": [
        "import pandas as pd\n",
        "import pickle\n",
        "import konlpy\n",
        "import re\n",
        "import sklearn as sk\n",
        "import numpy as np\n",
        "from sklearn.feature_extraction.text import TfidfVectorizer\n",
        "from sklearn.feature_extraction.text import CountVectorizer\n",
        "from sklearn.preprocessing import normalize\n"
      ],
      "execution_count": 0,
      "outputs": []
    },
    {
      "cell_type": "code",
      "metadata": {
        "id": "9wyetBtaqvJL",
        "colab_type": "code",
        "colab": {}
      },
      "source": [
        "with open('/content/drive/My Drive/comment_analysis/data/review.pickle', 'rb') as f:\n",
        "    review = pickle.load(f)"
      ],
      "execution_count": 0,
      "outputs": []
    },
    {
      "cell_type": "code",
      "metadata": {
        "id": "NGJasAgYw_zg",
        "colab_type": "code",
        "colab": {}
      },
      "source": [
        "review.columns = ['ranking','date','desc','asc']\n",
        "review_tidy = review.applymap(lambda x:re.sub('[\\[\\]!\"#$%&\\'()*+,/:;<=>?@\\^_`{|}~-✔️🙏🏻👍🤗💕😘]|BEST\\n|재구매\\n','',x))"
      ],
      "execution_count": 0,
      "outputs": []
    },
    {
      "cell_type": "code",
      "metadata": {
        "id": "9cnV6Wt6Nlle",
        "colab_type": "code",
        "colab": {}
      },
      "source": [
        "review_ranking = list(review_tidy['ranking'])\n",
        "review_rank_sents = sum([sent.split('\\n') for sent in review_ranking],[])"
      ],
      "execution_count": 0,
      "outputs": []
    },
    {
      "cell_type": "code",
      "metadata": {
        "id": "G4gXofKorjMo",
        "colab_type": "code",
        "colab": {}
      },
      "source": [
        "from konlpy.tag import Hannanum\n",
        "from konlpy.tag import Kkma\n",
        "from konlpy.tag import Mecab\n",
        "from konlpy.tag import Komoran\n",
        "from konlpy.tag import Okt"
      ],
      "execution_count": 0,
      "outputs": []
    },
    {
      "cell_type": "code",
      "metadata": {
        "id": "GyZzKMwFGmqC",
        "colab_type": "code",
        "colab": {}
      },
      "source": [
        "twitter = Okt()\n",
        "review_rank_noun = [twitter.nouns(sent) for sent in review_rank_sents]"
      ],
      "execution_count": 0,
      "outputs": []
    },
    {
      "cell_type": "code",
      "metadata": {
        "id": "QQdHAMgsZhSt",
        "colab_type": "code",
        "colab": {}
      },
      "source": [
        "corpus = [\" \".join(noun) for noun in review_rank_noun] \n",
        "corpus = list(filter(lambda x: len(x)!=0,corpus))"
      ],
      "execution_count": 0,
      "outputs": []
    },
    {
      "cell_type": "markdown",
      "metadata": {
        "id": "qaY3B3z3bqHJ",
        "colab_type": "text"
      },
      "source": [
        "출처: https://excelsior-cjh.tistory.com/93 [EXCELSIOR]"
      ]
    },
    {
      "cell_type": "code",
      "metadata": {
        "id": "bns8PRrUZU5Z",
        "colab_type": "code",
        "colab": {}
      },
      "source": [
        "# 문장 간 연결 여부를 tf-idf * tf-idf matrix로 판단\n",
        "# 각 문장 간 중요도를 1로 맞추기 위하여 normalize\n",
        "vectorizer = TfidfVectorizer()\n",
        "tfidf_mat = vectorizer.fit_transform(corpus).toarray()\n",
        "graph_tfidf = np.dot(tfidf_mat, tfidf_mat.T) # 문장 간의 tf-idf"
      ],
      "execution_count": 0,
      "outputs": []
    },
    {
      "cell_type": "code",
      "metadata": {
        "id": "aTCi2sI7aJ0L",
        "colab_type": "code",
        "colab": {}
      },
      "source": [
        "counter = CountVectorizer()\n",
        "counter_mat = normalize(counter.fit_transform(corpus).toarray().astype(float), axis=0)\n",
        "vocab = counter.vocabulary_\n",
        "graph_count = np.dot(counter_mat,counter_mat.T) # 문장 간의 counter 유사도\n",
        "words = {vocab[word] : word for word in vocab}"
      ],
      "execution_count": 0,
      "outputs": []
    },
    {
      "cell_type": "code",
      "metadata": {
        "id": "MAzYHV9Qdyq0",
        "colab_type": "code",
        "outputId": "62cccb64-a91d-4759-a41b-a1a211f4d373",
        "colab": {
          "base_uri": "https://localhost:8080/",
          "height": 34
        }
      },
      "source": [
        "graph_count.shape"
      ],
      "execution_count": 15,
      "outputs": [
        {
          "output_type": "execute_result",
          "data": {
            "text/plain": [
              "(1040, 1040)"
            ]
          },
          "metadata": {
            "tags": []
          },
          "execution_count": 15
        }
      ]
    },
    {
      "cell_type": "code",
      "metadata": {
        "id": "a3nun8COQZuK",
        "colab_type": "code",
        "colab": {}
      },
      "source": [
        "graph = graph_count\n",
        "# graph = graph_tfidf\n",
        "matrix_size = graph.shape[0]"
      ],
      "execution_count": 0,
      "outputs": []
    },
    {
      "cell_type": "code",
      "metadata": {
        "id": "SIVpTBHKa72Z",
        "colab_type": "code",
        "colab": {}
      },
      "source": [
        "d=0.85\n",
        "# Out(column) - In(row)\n",
        "for i in range(matrix_size):\n",
        "  graph[i,i] = 0 # weight 계산을 위해\n",
        "  link_sum = np.sum(graph[:,i]) # i번째 sentence의 총 weight\n",
        "  if link_sum != 0 :\n",
        "    graph[:,i] /= link_sum # i-j weight\n",
        "    graph[:,i] *= -d # 왜 -d인거지? - 수식적으로 풀면 나온다\n",
        "    graph[i,i] = 1 # i-i similarity는 1이니까"
      ],
      "execution_count": 0,
      "outputs": []
    },
    {
      "cell_type": "code",
      "metadata": {
        "id": "3E9Ne5wbZRlx",
        "colab_type": "code",
        "colab": {}
      },
      "source": [
        "A = normalize(x, axis=0, norm='l1')\n",
        "R = np.ones(A.shape[0]).reshape(-1,1)\n",
        "bias = (1 - df) * np.ones(A.shape[0]).reshape(-1,1)\n",
        "\n",
        "# iteration\n",
        "for _ in range(max_iter):\n",
        "    R = df * (A * R) + bias\n",
        "\n",
        "return R"
      ],
      "execution_count": 0,
      "outputs": []
    },
    {
      "cell_type": "code",
      "metadata": {
        "id": "0eYCDXFxUY7h",
        "colab_type": "code",
        "colab": {}
      },
      "source": [
        "bias = (1-d)*np.ones((matrix_size,1))"
      ],
      "execution_count": 0,
      "outputs": []
    },
    {
      "cell_type": "code",
      "metadata": {
        "id": "oBAJdWPxUki_",
        "colab_type": "code",
        "colab": {}
      },
      "source": [
        "ranks = np.linalg.solve(graph,bias) "
      ],
      "execution_count": 0,
      "outputs": []
    }
  ]
}