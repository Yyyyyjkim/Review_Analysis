{
  "nbformat": 4,
  "nbformat_minor": 0,
  "metadata": {
    "colab": {
      "name": "Konlpy.ipynb",
      "provenance": [],
      "collapsed_sections": [],
      "mount_file_id": "1s_pvY3Zk2fqladA1jRt6QaCjpia8PORd",
      "authorship_tag": "ABX9TyPXL8mA/K/eGX+8I9P40tpz",
      "include_colab_link": true
    },
    "kernelspec": {
      "name": "python3",
      "display_name": "Python 3"
    }
  },
  "cells": [
    {
      "cell_type": "markdown",
      "metadata": {
        "id": "view-in-github",
        "colab_type": "text"
      },
      "source": [
        "<a href=\"https://colab.research.google.com/github/Yyyyyjkim/review_analysis/blob/master/Konlpy.ipynb\" target=\"_parent\"><img src=\"https://colab.research.google.com/assets/colab-badge.svg\" alt=\"Open In Colab\"/></a>"
      ]
    },
    {
      "cell_type": "code",
      "metadata": {
        "id": "yhz168AuqMlN",
        "colab_type": "code",
        "outputId": "e96bfe08-b41b-4cf2-ff98-9daa003d0160",
        "colab": {
          "base_uri": "https://localhost:8080/",
          "height": 34
        }
      },
      "source": [
        "from google.colab import drive\n",
        "drive.mount('/content/drive')"
      ],
      "execution_count": 2,
      "outputs": [
        {
          "output_type": "stream",
          "text": [
            "Drive already mounted at /content/drive; to attempt to forcibly remount, call drive.mount(\"/content/drive\", force_remount=True).\n"
          ],
          "name": "stdout"
        }
      ]
    },
    {
      "cell_type": "code",
      "metadata": {
        "id": "wFbMMSaUrMLV",
        "colab_type": "code",
        "colab": {}
      },
      "source": [
        "!pip install konlpy\n",
        "!pip install sklearn"
      ],
      "execution_count": 0,
      "outputs": []
    },
    {
      "cell_type": "code",
      "metadata": {
        "id": "Tj_qTInrqqqI",
        "colab_type": "code",
        "colab": {}
      },
      "source": [
        "import pandas as pd\n",
        "import pickle\n",
        "import konlpy\n",
        "import re\n",
        "import sklearn as sk\n",
        "import numpy as np\n",
        "from sklearn.feature_extraction.text import TfidfVectorizer\n",
        "from sklearn.feature_extraction.text import CountVectorizer\n",
        "from sklearn.preprocessing import normalize\n"
      ],
      "execution_count": 0,
      "outputs": []
    },
    {
      "cell_type": "code",
      "metadata": {
        "id": "9wyetBtaqvJL",
        "colab_type": "code",
        "colab": {}
      },
      "source": [
        "with open('/content/drive/My Drive/comment_analysis/data/review.pickle', 'rb') as f:\n",
        "    review = pickle.load(f)"
      ],
      "execution_count": 0,
      "outputs": []
    },
    {
      "cell_type": "code",
      "metadata": {
        "id": "NGJasAgYw_zg",
        "colab_type": "code",
        "colab": {}
      },
      "source": [
        "review.columns = ['ranking','date','desc','asc']\n",
        "review_tidy = review.applymap(lambda x:re.sub('[\\[\\]!\"#$%&\\'()*+,/:;<=>?@\\^_`{|}~-✔️🙏🏻👍🤗💕😘]|BEST\\n|재구매\\n','',x))"
      ],
      "execution_count": 0,
      "outputs": []
    },
    {
      "cell_type": "code",
      "metadata": {
        "id": "9cnV6Wt6Nlle",
        "colab_type": "code",
        "colab": {}
      },
      "source": [
        "review_ranking = list(review_tidy['ranking'])\n",
        "review_rank_sents = sum([sent.split('\\n') for sent in review_ranking],[])"
      ],
      "execution_count": 0,
      "outputs": []
    },
    {
      "cell_type": "code",
      "metadata": {
        "id": "G4gXofKorjMo",
        "colab_type": "code",
        "colab": {}
      },
      "source": [
        "from konlpy.tag import Hannanum\n",
        "from konlpy.tag import Kkma\n",
        "from konlpy.tag import Mecab\n",
        "from konlpy.tag import Komoran\n",
        "from konlpy.tag import Okt"
      ],
      "execution_count": 0,
      "outputs": []
    },
    {
      "cell_type": "code",
      "metadata": {
        "id": "GyZzKMwFGmqC",
        "colab_type": "code",
        "colab": {}
      },
      "source": [
        "twitter = Okt()\n",
        "review_rank_noun = [twitter.nouns(sent) for sent in review_rank_sents]"
      ],
      "execution_count": 0,
      "outputs": []
    },
    {
      "cell_type": "code",
      "metadata": {
        "id": "xDPoNo__ZM5W",
        "colab_type": "code",
        "colab": {}
      },
      "source": [
        "corpus = review_rank_noun"
      ],
      "execution_count": 0,
      "outputs": []
    },
    {
      "cell_type": "markdown",
      "metadata": {
        "id": "qaY3B3z3bqHJ",
        "colab_type": "text"
      },
      "source": [
        "출처: https://excelsior-cjh.tistory.com/93 [EXCELSIOR]"
      ]
    },
    {
      "cell_type": "code",
      "metadata": {
        "id": "bns8PRrUZU5Z",
        "colab_type": "code",
        "colab": {}
      },
      "source": [
        "vectorizer = TfidfVectorizer()\n",
        "tfidf_mat = vectorizer.fit_transform(corpus).toarray()\n",
        "graph_sentence = np.dot(tfidf_mat, tfidf_mat.T) # 문장 간의 tf-idf"
      ],
      "execution_count": 0,
      "outputs": []
    },
    {
      "cell_type": "code",
      "metadata": {
        "id": "aTCi2sI7aJ0L",
        "colab_type": "code",
        "colab": {}
      },
      "source": [
        "counter = CountVectorizer()\n",
        "counter_mat = normalize(counter.fit_transform(corpus).toarray().astype(float), axis=0)\n",
        "vocab = counter.vocabulary_\n",
        "graph_word = np.dot(counter_mat,counter_mat.T) # 문장 간의 counter 유사도\n",
        "words = {vocab[word] : word for word in vocab}"
      ],
      "execution_count": 0,
      "outputs": []
    },
    {
      "cell_type": "code",
      "metadata": {
        "id": "MAzYHV9Qdyq0",
        "colab_type": "code",
        "colab": {
          "base_uri": "https://localhost:8080/",
          "height": 34
        },
        "outputId": "5c44616b-d4dc-4fe7-b963-f5d1858688d4"
      },
      "source": [
        "graph_word.shape"
      ],
      "execution_count": 120,
      "outputs": [
        {
          "output_type": "execute_result",
          "data": {
            "text/plain": [
              "(1213, 1213)"
            ]
          },
          "metadata": {
            "tags": []
          },
          "execution_count": 120
        }
      ]
    },
    {
      "cell_type": "code",
      "metadata": {
        "id": "SIVpTBHKa72Z",
        "colab_type": "code",
        "colab": {}
      },
      "source": [
        "graph = graph_sentence\n",
        "# graph = graph_word\n",
        "matrix_size = graph.shape[0]\n",
        "for id in range(matrix_size):\n",
        "  graph[id,id] = 0\n",
        "  "
      ],
      "execution_count": 0,
      "outputs": []
    }
  ]
}