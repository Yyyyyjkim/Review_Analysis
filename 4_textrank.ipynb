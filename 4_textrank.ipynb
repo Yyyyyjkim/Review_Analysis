{
  "nbformat": 4,
  "nbformat_minor": 0,
  "metadata": {
    "colab": {
      "name": "4_textrank.ipynb",
      "provenance": [],
      "collapsed_sections": [],
      "authorship_tag": "ABX9TyO8AmlbOwDJ0MZYiErLjYaV",
      "include_colab_link": true
    },
    "kernelspec": {
      "name": "python3",
      "display_name": "Python 3"
    }
  },
  "cells": [
    {
      "cell_type": "markdown",
      "metadata": {
        "id": "view-in-github",
        "colab_type": "text"
      },
      "source": [
        "<a href=\"https://colab.research.google.com/github/Yyyyyjkim/review_analysis/blob/master/4_textrank.ipynb\" target=\"_parent\"><img src=\"https://colab.research.google.com/assets/colab-badge.svg\" alt=\"Open In Colab\"/></a>"
      ]
    },
    {
      "cell_type": "code",
      "metadata": {
        "id": "QyMmla9cIlHn",
        "colab_type": "code",
        "outputId": "01c481f7-e2af-4ee7-bffc-0dec3cc19a25",
        "colab": {
          "base_uri": "https://localhost:8080/",
          "height": 125
        }
      },
      "source": [
        "from google.colab import drive\n",
        "drive.mount('/content/drive')"
      ],
      "execution_count": 0,
      "outputs": [
        {
          "output_type": "stream",
          "text": [
            "Go to this URL in a browser: https://accounts.google.com/o/oauth2/auth?client_id=947318989803-6bn6qk8qdgf4n4g3pfee6491hc0brc4i.apps.googleusercontent.com&redirect_uri=urn%3aietf%3awg%3aoauth%3a2.0%3aoob&response_type=code&scope=email%20https%3a%2f%2fwww.googleapis.com%2fauth%2fdocs.test%20https%3a%2f%2fwww.googleapis.com%2fauth%2fdrive%20https%3a%2f%2fwww.googleapis.com%2fauth%2fdrive.photos.readonly%20https%3a%2f%2fwww.googleapis.com%2fauth%2fpeopleapi.readonly\n",
            "\n",
            "Enter your authorization code:\n",
            "··········\n",
            "Mounted at /content/drive\n"
          ],
          "name": "stdout"
        }
      ]
    },
    {
      "cell_type": "code",
      "metadata": {
        "id": "LpOoRDdldnTK",
        "colab_type": "code",
        "colab": {}
      },
      "source": [
        "!apt-get update\n",
        "!apt install chromium-chromedriver\n",
        "!pip install requests\n",
        "!pip install bs4\n",
        "!pip install selenium\n",
        "!pip install konlpy\n",
        "!pip install sklearn"
      ],
      "execution_count": 0,
      "outputs": []
    },
    {
      "cell_type": "code",
      "metadata": {
        "id": "b55Zp1DNd3vr",
        "colab_type": "code",
        "colab": {}
      },
      "source": [
        "#-*- coding: utf-8 -*-"
      ],
      "execution_count": 0,
      "outputs": []
    },
    {
      "cell_type": "code",
      "metadata": {
        "id": "iNEDsJvfSyWD",
        "colab_type": "code",
        "colab": {}
      },
      "source": [
        "import requests\n",
        "from bs4 import BeautifulSoup\n",
        "from selenium import webdriver\n",
        "import time\n",
        "import re\n",
        "import pickle\n",
        "from konlpy.tag import Okt\n",
        "import sklearn as sk\n",
        "import numpy as np\n",
        "from sklearn.feature_extraction.text import TfidfVectorizer\n",
        "from sklearn.feature_extraction.text import CountVectorizer\n",
        "from sklearn.preprocessing import normalize"
      ],
      "execution_count": 0,
      "outputs": []
    },
    {
      "cell_type": "code",
      "metadata": {
        "id": "MkxmbA9-lL_q",
        "colab_type": "code",
        "colab": {}
      },
      "source": [
        "with open('/content/drive/My Drive/comment_analysis/data/crawling.pickle', 'rb') as f:\n",
        "  crawling = pickle.load(f)\n",
        "with open('/content/drive/My Drive/comment_analysis/data/nlp.pickle', 'rb') as f:\n",
        "  nlp = pickle.load(f)\n",
        "with open('/content/drive/My Drive/comment_analysis/data/graph.pickle', 'rb') as f:\n",
        "  graph = pickle.load(f)"
      ],
      "execution_count": 0,
      "outputs": []
    },
    {
      "cell_type": "code",
      "metadata": {
        "id": "RHiu5kD7eXJ_",
        "colab_type": "code",
        "colab": {}
      },
      "source": [
        "class textrank:\n",
        "  def __init__(self,url,sorting,pagenum,unit='self'):\n",
        "    self.crawling = crawling()\n",
        "    self.text = self.crawling.get_text(url,sorting,pagenum)\n",
        "\n",
        "    self.nlp = nlp(self.text)\n",
        "    self.tidy = self.nlp.tidy\n",
        "    self.morphs = self.nlp.get_morphs()\n",
        "    self.pos = self.nlp.get_pos()\n",
        "    self.noun = self.nlp.get_noun()\n",
        "\n",
        "    self.graph = graph()\n",
        "    if unit=='self':\n",
        "      self.graph_sent = self.graph.graph_sent(self.morphs)\n",
        "      self.graph_word, self.words = self.graph.graph_word(self.morphs)\n",
        "    if unit=='pos':\n",
        "      self.graph_sent = self.graph.graph_sent(self.pos)\n",
        "      self.graph_word, self.words = self.graph.graph_word(self.pos)\n",
        "    if unit=='noun':\n",
        "      self.graph_sent = self.graph.graph_sent(self.noun)\n",
        "      self.graph_word, self.words = self.graph.graph_word(self.noun)\n",
        "    \n",
        "  def get_rank(self,graph='self',corpus='self',d=0.85,tol=1e-5,len=10):\n",
        "    if graph=='self':\n",
        "      graph = self.graph_sent\n",
        "    if corpus=='self':\n",
        "      corpus = self.tidy\n",
        "    colsum = np.sum(graph,axis=0)\n",
        "    weight = pd.DataFrame(graph).apply(lambda x:x/colsum,axis=1)\n",
        "    weight = weight.fillna(0)\n",
        "    pro_vec = np.ones(graph.shape[0]).reshape(-1,1)\n",
        "\n",
        "    bias = (1-d)*pro_vec\n",
        "    diff = sum(pro_vec)\n",
        "    while diff > tol:\n",
        "      past_vec = pro_vec.copy()\n",
        "      pro_vec = bias+d*np.dot(weight,pro_vec)\n",
        "      diff = sum(abs(past_vec-pro_vec))\n",
        "    \n",
        "    rank = {id: rank for id, rank in enumerate(pro_vec)}\n",
        "    keywords = sorted(rank, key=lambda x: rank[x],reverse=True) #value를 기준으로 정렬하고 key return \n",
        "\n",
        "    summary = []\n",
        "    for id in keywords[:len]:\n",
        "      summary.append(corpus[id])\n",
        "    \n",
        "    return summary"
      ],
      "execution_count": 0,
      "outputs": []
    },
    {
      "cell_type": "code",
      "metadata": {
        "id": "IGVZIy2ljCoy",
        "colab_type": "code",
        "colab": {}
      },
      "source": [
        "crawl = crawling()\n",
        "text_rank =crawl.get_text(\"https://smartstore.naver.com/jainystore/products/2455969597\",\"랭킹순\",10)\n",
        "# text_date =crawl.get_text(\"https://smartstore.naver.com/jainystore/products/2455969597\",\"최신순\",10)\n",
        "# text_desc =crawl.get_text(\"https://smartstore.naver.com/jainystore/products/2455969597\",\"평점 높은순\",10)\n",
        "# text_asc =crawl.get_text(\"https://smartstore.naver.com/jainystore/products/2455969597\",\"평점 낮은순\",10)"
      ],
      "execution_count": 0,
      "outputs": []
    },
    {
      "cell_type": "code",
      "metadata": {
        "id": "97PzEmn5iHRY",
        "colab_type": "code",
        "colab": {}
      },
      "source": [
        "rank = textrank(\"https://smartstore.naver.com/jainystore/products/2455969597\",\"랭킹순\",1,\"noun\")"
      ],
      "execution_count": 0,
      "outputs": []
    },
    {
      "cell_type": "code",
      "metadata": {
        "id": "Dg4TrfWCmAo8",
        "colab_type": "code",
        "colab": {}
      },
      "source": [
        "summary = rank.get_rank()"
      ],
      "execution_count": 0,
      "outputs": []
    },
    {
      "cell_type": "code",
      "metadata": {
        "id": "U_A93HHKmCkS",
        "colab_type": "code",
        "colab": {}
      },
      "source": [
        "summary"
      ],
      "execution_count": 0,
      "outputs": []
    },
    {
      "cell_type": "code",
      "metadata": {
        "id": "WI794hX-lOxB",
        "colab_type": "code",
        "outputId": "6a88040d-ca7b-4da1-91f9-04361523d5b7",
        "colab": {
          "base_uri": "https://localhost:8080/",
          "height": 54
        }
      },
      "source": [
        "keywords = rank.get_rank(graph=rank.graph_word,corpus=rank.words)"
      ],
      "execution_count": 0,
      "outputs": [
        {
          "output_type": "stream",
          "text": [
            "/usr/local/lib/python3.6/dist-packages/ipykernel_launcher.py:24: FutureWarning: elementwise comparison failed; returning scalar instead, but in the future will perform elementwise comparison\n"
          ],
          "name": "stderr"
        }
      ]
    },
    {
      "cell_type": "code",
      "metadata": {
        "id": "lLugr5LEm8Ju",
        "colab_type": "code",
        "outputId": "564e9b58-b7ec-45cb-b146-7a45d9167a4f",
        "colab": {
          "base_uri": "https://localhost:8080/",
          "height": 34
        }
      },
      "source": [
        "keywords"
      ],
      "execution_count": 0,
      "outputs": [
        {
          "output_type": "execute_result",
          "data": {
            "text/plain": [
              "['베개', '어깨', '사용', '정도', '자고', '솔솔', '생각', '구매', '처음', '후기']"
            ]
          },
          "metadata": {
            "tags": []
          },
          "execution_count": 67
        }
      ]
    }
  ]
}