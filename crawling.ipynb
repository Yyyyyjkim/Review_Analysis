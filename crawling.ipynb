{
  "nbformat": 4,
  "nbformat_minor": 0,
  "metadata": {
    "colab": {
      "name": "crawling.ipynb",
      "provenance": [],
      "collapsed_sections": [],
      "authorship_tag": "ABX9TyNr1o2Zp4VFTrHeNK93uTE9",
      "include_colab_link": true
    },
    "kernelspec": {
      "name": "python3",
      "display_name": "Python 3"
    }
  },
  "cells": [
    {
      "cell_type": "markdown",
      "metadata": {
        "id": "view-in-github",
        "colab_type": "text"
      },
      "source": [
        "<a href=\"https://colab.research.google.com/github/Yyyyyjkim/review_analysis/blob/master/crawling.ipynb\" target=\"_parent\"><img src=\"https://colab.research.google.com/assets/colab-badge.svg\" alt=\"Open In Colab\"/></a>"
      ]
    },
    {
      "cell_type": "code",
      "metadata": {
        "id": "m__xhcvT2UW4",
        "colab_type": "code",
        "outputId": "d8a243dc-ea66-45fa-e110-bdb887cc97a5",
        "colab": {
          "base_uri": "https://localhost:8080/",
          "height": 125
        }
      },
      "source": [
        "from google.colab import drive\n",
        "drive.mount('/content/drive')"
      ],
      "execution_count": 1,
      "outputs": [
        {
          "output_type": "stream",
          "text": [
            "Go to this URL in a browser: https://accounts.google.com/o/oauth2/auth?client_id=947318989803-6bn6qk8qdgf4n4g3pfee6491hc0brc4i.apps.googleusercontent.com&redirect_uri=urn%3aietf%3awg%3aoauth%3a2.0%3aoob&response_type=code&scope=email%20https%3a%2f%2fwww.googleapis.com%2fauth%2fdocs.test%20https%3a%2f%2fwww.googleapis.com%2fauth%2fdrive%20https%3a%2f%2fwww.googleapis.com%2fauth%2fdrive.photos.readonly%20https%3a%2f%2fwww.googleapis.com%2fauth%2fpeopleapi.readonly\n",
            "\n",
            "Enter your authorization code:\n",
            "··········\n",
            "Mounted at /content/drive\n"
          ],
          "name": "stdout"
        }
      ]
    },
    {
      "cell_type": "code",
      "metadata": {
        "id": "tsMOHnHxpjEM",
        "colab_type": "code",
        "colab": {
          "base_uri": "https://localhost:8080/",
          "height": 266
        },
        "outputId": "568b3c29-7abb-41a1-a1b0-5663c9cab3d9"
      },
      "source": [
        "!pip install requests\n",
        "!pip install bs4\n",
        "!pip install selenium"
      ],
      "execution_count": 2,
      "outputs": [
        {
          "output_type": "stream",
          "text": [
            "Requirement already satisfied: requests in /usr/local/lib/python3.6/dist-packages (2.21.0)\n",
            "Requirement already satisfied: urllib3<1.25,>=1.21.1 in /usr/local/lib/python3.6/dist-packages (from requests) (1.24.3)\n",
            "Requirement already satisfied: idna<2.9,>=2.5 in /usr/local/lib/python3.6/dist-packages (from requests) (2.8)\n",
            "Requirement already satisfied: certifi>=2017.4.17 in /usr/local/lib/python3.6/dist-packages (from requests) (2019.11.28)\n",
            "Requirement already satisfied: chardet<3.1.0,>=3.0.2 in /usr/local/lib/python3.6/dist-packages (from requests) (3.0.4)\n",
            "Requirement already satisfied: bs4 in /usr/local/lib/python3.6/dist-packages (0.0.1)\n",
            "Requirement already satisfied: beautifulsoup4 in /usr/local/lib/python3.6/dist-packages (from bs4) (4.6.3)\n",
            "Collecting selenium\n",
            "\u001b[?25l  Downloading https://files.pythonhosted.org/packages/80/d6/4294f0b4bce4de0abf13e17190289f9d0613b0a44e5dd6a7f5ca98459853/selenium-3.141.0-py2.py3-none-any.whl (904kB)\n",
            "\u001b[K     |████████████████████████████████| 911kB 3.5MB/s \n",
            "\u001b[?25hRequirement already satisfied: urllib3 in /usr/local/lib/python3.6/dist-packages (from selenium) (1.24.3)\n",
            "Installing collected packages: selenium\n",
            "Successfully installed selenium-3.141.0\n"
          ],
          "name": "stdout"
        }
      ]
    },
    {
      "cell_type": "code",
      "metadata": {
        "id": "T04SXdKe7Er5",
        "colab_type": "code",
        "colab": {}
      },
      "source": [
        "!apt install chromium-chromedriver"
      ],
      "execution_count": 0,
      "outputs": []
    },
    {
      "cell_type": "code",
      "metadata": {
        "id": "rQAFCXLTpOQo",
        "colab_type": "code",
        "colab": {}
      },
      "source": [
        "import requests\n",
        "from bs4 import BeautifulSoup\n",
        "from selenium import webdriver\n",
        "import time"
      ],
      "execution_count": 0,
      "outputs": []
    },
    {
      "cell_type": "code",
      "metadata": {
        "id": "93-4LeE0zLZi",
        "colab_type": "code",
        "colab": {}
      },
      "source": [
        "options = webdriver.ChromeOptions()\n",
        "options.add_argument('--headless')\n",
        "options.add_argument('--no-sandbox')\n",
        "options.add_argument('--disable-dev-shm-usage')\n",
        "driver = webdriver.Chrome('chromedriver',options=options)\n",
        "# driver = webdriver.Chrome('chromedriver')"
      ],
      "execution_count": 0,
      "outputs": []
    },
    {
      "cell_type": "code",
      "metadata": {
        "id": "F-Ou6F-rkGjU",
        "colab_type": "code",
        "colab": {}
      },
      "source": [
        "driver.get(\"https://smartstore.naver.com/jainystore/products/2455969597\")\n",
        "driver.find_element_by_xpath(\"//div[@class='detail_tab_floatable']//li[@class='item']/a[@class='link N=a:tab.review']\").click()\n",
        "time.sleep(5)"
      ],
      "execution_count": 0,
      "outputs": []
    },
    {
      "cell_type": "code",
      "metadata": {
        "id": "_t2L4gLPkKew",
        "colab_type": "code",
        "colab": {}
      },
      "source": [
        "div_class = 'header_review _review_list_header'\n",
        "ui_class = 'sort_list _review_list_header_sort'\n",
        "ranking = '랭킹순'\n",
        "date = '최신순'\n",
        "desc = '평점 높은순'\n",
        "asc = '평점 낮은순'\n",
        "sorting = [ranking,date,desc,asc]\n",
        "sorting_names = ['ranking','date','desc','asc']\n",
        "path = [f\"//div[@class='{div_class}']//ul[@class='{ui_class}']//a[text()='{i}']\" for i in sorting]"
      ],
      "execution_count": 0,
      "outputs": []
    },
    {
      "cell_type": "code",
      "metadata": {
        "id": "0FLXoNGI2MV2",
        "colab_type": "code",
        "colab": {
          "base_uri": "https://localhost:8080/",
          "height": 87
        },
        "outputId": "03a3669e-233e-4ffc-e7be-a8eceb35def2"
      },
      "source": [
        "for i in range(len(path)):\n",
        "    print(i)\n",
        "    driver.find_element_by_xpath(path[i]).click()\n",
        "    time.sleep(5)\n",
        "    html = driver.page_source\n",
        "    soup = BeautifulSoup(html, 'html.parser')\n",
        "    review_page = soup.find_all('p',class_='review_text _review_text')\n",
        "    globals()['review_{}'.format(sorting_names[i])] = [each_line.get_text().strip() for each_line in review_page[:20]]\n",
        "    for page in range(2,11):\n",
        "        path_page = f\"//nav[@class='module_pagination _review_list_page']//a[text()='{page}']\"\n",
        "        driver.find_element_by_xpath(path_page).click()\n",
        "        time.sleep(5)\n",
        "        html = driver.page_source\n",
        "        soup = BeautifulSoup(html, 'html.parser')\n",
        "        review_page = soup.find_all('p',class_='review_text _review_text')\n",
        "        review = [each_line.get_text().strip() for each_line in review_page[:20]]\n",
        "        globals()['review_{}'.format(sorting_names[i])].extend(review)"
      ],
      "execution_count": 8,
      "outputs": [
        {
          "output_type": "stream",
          "text": [
            "0\n",
            "1\n",
            "2\n",
            "3\n"
          ],
          "name": "stdout"
        }
      ]
    },
    {
      "cell_type": "code",
      "metadata": {
        "id": "olrlIMoXdD5Z",
        "colab_type": "code",
        "colab": {}
      },
      "source": [
        "import pickle\n",
        "import pandas as pd"
      ],
      "execution_count": 0,
      "outputs": []
    },
    {
      "cell_type": "code",
      "metadata": {
        "id": "vivVM4xVnbRl",
        "colab_type": "code",
        "colab": {}
      },
      "source": [
        "ranking = pd.DataFrame(review_ranking)\n",
        "date = pd.DataFrame(review_date)\n",
        "desc = pd.DataFrame(review_desc)\n",
        "asc = pd.DataFrame(review_asc)"
      ],
      "execution_count": 0,
      "outputs": []
    },
    {
      "cell_type": "code",
      "metadata": {
        "id": "RcaTql4Xnjyu",
        "colab_type": "code",
        "colab": {}
      },
      "source": [
        "review = pd.concat([ranking,date,desc,asc],axis=1)"
      ],
      "execution_count": 0,
      "outputs": []
    },
    {
      "cell_type": "code",
      "metadata": {
        "id": "7mA0n2dHm-hr",
        "colab_type": "code",
        "colab": {}
      },
      "source": [
        "with open('/content/drive/My Drive/comment_analysis/review.pickle','wb') as f:\n",
        "  pickle.dump(review,f)"
      ],
      "execution_count": 0,
      "outputs": []
    }
  ]
}